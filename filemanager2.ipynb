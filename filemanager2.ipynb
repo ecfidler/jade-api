{
 "cells": [
  {
   "attachments": {},
   "cell_type": "markdown",
   "metadata": {},
   "source": [
    "### File manager testing notebook"
   ]
  },
  {
   "cell_type": "code",
   "execution_count": 1,
   "metadata": {},
   "outputs": [],
   "source": [
    "import glob\n",
    "import os\n",
    "from pathlib import Path\n",
    "\n",
    "PATH = Path('.') / 'files'\n",
    "FILETYPES = {'.stl', '.gcode'}"
   ]
  },
  {
   "cell_type": "code",
   "execution_count": 2,
   "metadata": {},
   "outputs": [],
   "source": [
    "def rename_file(oldname: str, newname: str):\n",
    "    path = Path(PATH) / oldname\n",
    "    if not (path.exists() and path.is_file()):\n",
    "        raise ValueError\n",
    "\n",
    "    new_path = Path(PATH) / newname\n",
    "    path.rename(new_path)\n"
   ]
  },
  {
   "cell_type": "code",
   "execution_count": 4,
   "metadata": {},
   "outputs": [],
   "source": [
    "rename_file(\"benchy.stl\", \"benchy2.stl\")"
   ]
  },
  {
   "cell_type": "code",
   "execution_count": 2,
   "metadata": {},
   "outputs": [],
   "source": [
    "def delete_file(filename: str):\n",
    "    \"\"\"Delete the file with the given filename in PATH directory if it exists.\"\"\"\n",
    "    path = Path(PATH) / filename \n",
    "    if not (path.exists() and path.is_file()):\n",
    "        raise ValueError\n",
    "\n",
    "    path.unlink()"
   ]
  },
  {
   "cell_type": "code",
   "execution_count": 3,
   "metadata": {},
   "outputs": [],
   "source": [
    "delete_file(\"benchy2 copy.stl\")"
   ]
  }
 ],
 "metadata": {
  "kernelspec": {
   "display_name": "Python 3",
   "language": "python",
   "name": "python3"
  },
  "language_info": {
   "codemirror_mode": {
    "name": "ipython",
    "version": 3
   },
   "file_extension": ".py",
   "mimetype": "text/x-python",
   "name": "python",
   "nbconvert_exporter": "python",
   "pygments_lexer": "ipython3",
   "version": "3.11.0"
  },
  "orig_nbformat": 4
 },
 "nbformat": 4,
 "nbformat_minor": 2
}
